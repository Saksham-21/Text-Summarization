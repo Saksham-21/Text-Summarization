{
  "nbformat": 4,
  "nbformat_minor": 0,
  "metadata": {
    "colab": {
      "provenance": []
    },
    "kernelspec": {
      "name": "python3",
      "display_name": "Python 3"
    },
    "language_info": {
      "name": "python"
    }
  },
  "cells": [
    {
      "cell_type": "code",
      "execution_count": 64,
      "metadata": {
        "id": "l73sHJ7BZFDN"
      },
      "outputs": [],
      "source": [
        "import nltk\n",
        "from nltk.corpus import stopwords\n",
        "from nltk.stem import PorterStemmer\n",
        "from nltk.tokenize import word_tokenize, sent_tokenize"
      ]
    },
    {
      "cell_type": "code",
      "source": [
        "import nltk\n",
        "nltk.download(\"stopwords\")"
      ],
      "metadata": {
        "colab": {
          "base_uri": "https://localhost:8080/"
        },
        "id": "btBxSsK8eyVk",
        "outputId": "071971ee-fbd3-4471-d96c-58e791048381"
      },
      "execution_count": 65,
      "outputs": [
        {
          "output_type": "stream",
          "name": "stderr",
          "text": [
            "[nltk_data] Downloading package stopwords to /root/nltk_data...\n",
            "[nltk_data]   Package stopwords is already up-to-date!\n"
          ]
        },
        {
          "output_type": "execute_result",
          "data": {
            "text/plain": [
              "True"
            ]
          },
          "metadata": {},
          "execution_count": 65
        }
      ]
    },
    {
      "cell_type": "code",
      "source": [
        "import nltk\n",
        "nltk.download(\"punkt\")"
      ],
      "metadata": {
        "colab": {
          "base_uri": "https://localhost:8080/"
        },
        "id": "7LmvWwhSezhx",
        "outputId": "73eaf046-36a7-481f-e038-8f9b89ae42b7"
      },
      "execution_count": 66,
      "outputs": [
        {
          "output_type": "stream",
          "name": "stderr",
          "text": [
            "[nltk_data] Downloading package punkt to /root/nltk_data...\n",
            "[nltk_data]   Package punkt is already up-to-date!\n"
          ]
        },
        {
          "output_type": "execute_result",
          "data": {
            "text/plain": [
              "True"
            ]
          },
          "metadata": {},
          "execution_count": 66
        }
      ]
    },
    {
      "cell_type": "code",
      "source": [
        "article_content='India is one of the strongest countries in the world. It is the seventh-largest country in the world area-wise and the second most populous country in the world. India shares its borders with countries like Pakistan, Afghanistan, China, Nepal, Bhutan, Myanmar and Bangladesh. It also shares its borders with Sri Lanka and the Maldives. It is a secular and democratic country that respects all religions and the people of India have the liberty to practise any religion they want.India believes in nonviolence and therefore, Mahatma Gandhi is known as the father of the Nation because of his non-violent contribution to the freedom movement of the country. The tri-coloured national flag is known as Tiranga which has the Ashoka Chakra at the centre. The national emblem of the country is the ‘Lion Capital of Ashoka’.The Param Vir Chakra is India’s highest military decoration, given to those who have shown courage. Soldiers who put their lives on the line to safeguard residents are India’s heroes. Pandit Jawaharlal Nehru, often known as Pandit Nehru or Chacha Nehru, was India’s first prime minister. India is a land of many festivals, different dressing styles, and different food styles. People of different castes, creeds, and colours also live peacefully in India, and this is how it sets a perfect example of ‘Unity in Diversity’.'"
      ],
      "metadata": {
        "id": "t5RDUVugcZah"
      },
      "execution_count": 67,
      "outputs": []
    },
    {
      "cell_type": "code",
      "source": [
        "sentences = sent_tokenize(article_content)"
      ],
      "metadata": {
        "id": "r2V6Ax0zdDwN"
      },
      "execution_count": 68,
      "outputs": []
    },
    {
      "cell_type": "code",
      "source": [
        "def _create_dictionary_table(text_string) -> dict:\n",
        "    stop_words = set(stopwords.words(\"english\"))\n",
        "    words = word_tokenize(text_string)\n",
        "    stem = PorterStemmer()\n",
        "    frequency_table = dict()\n",
        "    for wd in words:\n",
        "        wd = stem.stem(wd)\n",
        "        if wd in stop_words:\n",
        "            continue\n",
        "        if wd in frequency_table:\n",
        "            frequency_table[wd] += 1\n",
        "        else:\n",
        "            frequency_table[wd] = 1\n",
        "    return frequency_table"
      ],
      "metadata": {
        "id": "8chgR-fBfAX7"
      },
      "execution_count": 69,
      "outputs": []
    },
    {
      "cell_type": "code",
      "source": [
        "frequency_table = _create_dictionary_table(article_content)"
      ],
      "metadata": {
        "id": "ddHNPHd3fQmI"
      },
      "execution_count": 70,
      "outputs": []
    },
    {
      "cell_type": "code",
      "source": [
        "def _calculate_sentence_scores(sentences, frequency_table) -> dict:   \n",
        "    sentence_weight = dict()\n",
        "    for sentence in sentences:\n",
        "        sentence_wordcount = (len(word_tokenize(sentence)))\n",
        "        sentence_wordcount_without_stop_words = 0\n",
        "        for word_weight in frequency_table:\n",
        "            if word_weight in sentence.lower():\n",
        "                sentence_wordcount_without_stop_words += 1\n",
        "                if sentence[:7] in sentence_weight:\n",
        "                    sentence_weight[sentence[:7]] += frequency_table[word_weight]\n",
        "                else:\n",
        "                    sentence_weight[sentence[:7]] = frequency_table[word_weight]\n",
        "        sentence_weight[sentence[:7]] = sentence_weight[sentence[:7]] / sentence_wordcount_without_stop_words\n",
        "    return sentence_weight"
      ],
      "metadata": {
        "id": "nBk6m2Sxfili"
      },
      "execution_count": 71,
      "outputs": []
    },
    {
      "cell_type": "code",
      "source": [
        "sentence_scores = _calculate_sentence_scores(sentences, frequency_table)"
      ],
      "metadata": {
        "id": "F3kDy0H7gRVd"
      },
      "execution_count": 72,
      "outputs": []
    },
    {
      "cell_type": "code",
      "source": [
        "def _calculate_average_score(sentence_weight) -> int:\n",
        "    sum_values = 0\n",
        "    for entry in sentence_weight:\n",
        "        sum_values += sentence_weight[entry]\n",
        "    average_score = (sum_values / len(sentence_weight))\n",
        "    return average_score"
      ],
      "metadata": {
        "id": "0rRWmZxSg-BD"
      },
      "execution_count": 73,
      "outputs": []
    },
    {
      "cell_type": "code",
      "source": [
        "threshold = _calculate_average_score(sentence_scores)"
      ],
      "metadata": {
        "id": "JwlovB0rhawF"
      },
      "execution_count": 74,
      "outputs": []
    },
    {
      "cell_type": "code",
      "source": [
        "def get_article_summary(sentences, sentence_weight, threshold):\n",
        "    sentence_counter = 0\n",
        "    article_summary = ''\n",
        "    for sentence in sentences:\n",
        "        if sentence[:7] in sentence_weight and sentence_weight[sentence[:7]] >= (threshold):\n",
        "            article_summary += \" \" + sentence\n",
        "            sentence_counter += 1\n",
        "    return article_summary"
      ],
      "metadata": {
        "id": "MVp6r6VliS5x"
      },
      "execution_count": 75,
      "outputs": []
    },
    {
      "cell_type": "code",
      "source": [
        "article_summary = get_article_summary(sentences, sentence_scores, 0.8* threshold)\n",
        "article_summary"
      ],
      "metadata": {
        "colab": {
          "base_uri": "https://localhost:8080/",
          "height": 122
        },
        "id": "Bh4qSmOqigHM",
        "outputId": "35a2cde4-5ebc-4a85-8de8-34c11ef4a373"
      },
      "execution_count": 76,
      "outputs": [
        {
          "output_type": "execute_result",
          "data": {
            "text/plain": [
              "' India is one of the strongest countries in the world. It is the seventh-largest country in the world area-wise and the second most populous country in the world. India shares its borders with countries like Pakistan, Afghanistan, China, Nepal, Bhutan, Myanmar and Bangladesh. It also shares its borders with Sri Lanka and the Maldives. The national emblem of the country is the ‘Lion Capital of Ashoka’.The Param Vir Chakra is India’s highest military decoration, given to those who have shown courage. Soldiers who put their lives on the line to safeguard residents are India’s heroes. Pandit Jawaharlal Nehru, often known as Pandit Nehru or Chacha Nehru, was India’s first prime minister. India is a land of many festivals, different dressing styles, and different food styles. People of different castes, creeds, and colours also live peacefully in India, and this is how it sets a perfect example of ‘Unity in Diversity’.'"
            ],
            "application/vnd.google.colaboratory.intrinsic+json": {
              "type": "string"
            }
          },
          "metadata": {},
          "execution_count": 76
        }
      ]
    }
  ]
}